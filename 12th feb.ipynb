{
 "cells": [
  {
   "cell_type": "markdown",
   "id": "0bd96bc8-1344-462d-a562-dc52b6eee953",
   "metadata": {},
   "source": [
    "# Q1 What is an exception in python? Write the difference between Exceptions and syntex errors."
   ]
  },
  {
   "cell_type": "markdown",
   "id": "1de48859-a7da-4bef-ba57-e6e281d4dd20",
   "metadata": {},
   "source": [
    "# In Python, an exception is an error that occurs during the execution of a program, resulting in the abnormal termination of the program. When an exception occurs, Python creates an exception object that contains information about the error, such as the type of the exception and the location where it occurred, and then raises the exception, which can be caught and handled by the program."
   ]
  },
  {
   "cell_type": "markdown",
   "id": "27c1920d-dd53-4724-9c64-f82042286c0c",
   "metadata": {},
   "source": [
    "# The main difference between exceptions and syntax errors is that exceptions occur during the execution of the program, while syntax errors occur during the compilation stage. Exceptions are raised when the program encounters an unexpected condition that it cannot handle, while syntax errors are raised when the program violates the rules of the Python language. Exceptions can be handled by the program using exception handling constructs such as try-except blocks, while syntax errors must be fixed by editing the source code of the program."
   ]
  },
  {
   "cell_type": "markdown",
   "id": "31ab2de3-0deb-48f4-98a3-6bb9b9d49e92",
   "metadata": {},
   "source": [
    "# Q2 What happens when an exception is not handeled? Expalin with an example."
   ]
  },
  {
   "cell_type": "markdown",
   "id": "b43d6f51-844a-4245-9d43-ccd8e1e4bf87",
   "metadata": {},
   "source": [
    "# When an exception is not handled in Python, it causes the program to terminate abnormally and an error message is displayed to the user. This can result in loss of data or other undesirable consequences, and can make it difficult to identify and fix the cause of the error."
   ]
  },
  {
   "cell_type": "code",
   "execution_count": null,
   "id": "73785401-f948-4191-9602-aff93a03abf1",
   "metadata": {},
   "outputs": [],
   "source": [
    "# Attempt to divide by zero, which raises an exception\n",
    "result = 10 / 0\n",
    "\n",
    "# The program terminates abnormally and an error message is displayed\n"
   ]
  },
  {
   "cell_type": "markdown",
   "id": "d5db7dd7-16c4-4788-b497-bb83485bc87f",
   "metadata": {},
   "source": [
    "# Q3 Which python statemnets are used to catch and haldel exceptions? Explain with example."
   ]
  },
  {
   "cell_type": "markdown",
   "id": "12772b55-208e-49a8-a72f-5a959a4985df",
   "metadata": {},
   "source": [
    "# In Python, you can catch and handle exceptions using the try-except statement. The try block contains the code that may raise an exception, and the except block contains the code that handles the exception if it occurs."
   ]
  },
  {
   "cell_type": "code",
   "execution_count": 3,
   "id": "bcf55eb9-6944-48b5-a7f3-2a19ebdfbbdb",
   "metadata": {},
   "outputs": [
    {
     "name": "stdout",
     "output_type": "stream",
     "text": [
      "Error: File not found\n"
     ]
    }
   ],
   "source": [
    "try:\n",
    "    file = open(\"myfile.txt\")  # Attempt to open a file that may not exist\n",
    "    data = file.read()  # Read the contents of the file\n",
    "    file.close()  # Close the file\n",
    "except FileNotFoundError:\n",
    "    print(\"Error: File not found\")  # Handle the exception if the file does not exist\n",
    "except IOError:\n",
    "    print(\"Error: Input/output error\")  # Handle the exception if an I/O error occurs\n"
   ]
  },
  {
   "cell_type": "markdown",
   "id": "69d51afa-24f6-46ff-8532-ee1f04226468",
   "metadata": {},
   "source": [
    "# Q4 Explain with an example \n",
    " # 1. try and else\n",
    " # 2. finally \n",
    " # 3. raise"
   ]
  },
  {
   "cell_type": "markdown",
   "id": "044dd422-e53e-490b-8909-e7608516af92",
   "metadata": {},
   "source": [
    "# 1. try-else statement\n",
    "# The try-else statement is used to execute some code if no exception occurs in the try block. If an exception occurs, the else block is skipped and the program jumps to the except block."
   ]
  },
  {
   "cell_type": "code",
   "execution_count": 4,
   "id": "e13d4c4c-bbe5-45c5-9011-7dc0c208eca3",
   "metadata": {},
   "outputs": [
    {
     "name": "stdin",
     "output_type": "stream",
     "text": [
      "Enter a number:  10\n"
     ]
    },
    {
     "name": "stdout",
     "output_type": "stream",
     "text": [
      "The square of 10 is 100\n"
     ]
    }
   ],
   "source": [
    "try:\n",
    "    x = int(input(\"Enter a number: \"))\n",
    "except ValueError:\n",
    "    print(\"Invalid input\")\n",
    "else:\n",
    "    print(\"The square of {} is {}\".format(x, x**2))\n"
   ]
  },
  {
   "cell_type": "markdown",
   "id": "5389fee4-5844-44c9-81ea-d185d335d2e3",
   "metadata": {},
   "source": [
    "# 2. finally statement\n",
    "# The finally statement is used to specify a block of code that is always executed, regardless of whether an exception occurred in the try block or not. This is useful for cleaning up resources or performing other tasks that should always be done, even if an exception occurs."
   ]
  },
  {
   "cell_type": "code",
   "execution_count": 5,
   "id": "be9ec18e-2628-48ab-832d-8d43cb0747a1",
   "metadata": {},
   "outputs": [
    {
     "name": "stdout",
     "output_type": "stream",
     "text": [
      "Error reading file\n"
     ]
    },
    {
     "ename": "NameError",
     "evalue": "name 'file' is not defined",
     "output_type": "error",
     "traceback": [
      "\u001b[0;31m---------------------------------------------------------------------------\u001b[0m",
      "\u001b[0;31mNameError\u001b[0m                                 Traceback (most recent call last)",
      "Cell \u001b[0;32mIn[5], line 7\u001b[0m\n\u001b[1;32m      5\u001b[0m     \u001b[38;5;28mprint\u001b[39m(\u001b[38;5;124m\"\u001b[39m\u001b[38;5;124mError reading file\u001b[39m\u001b[38;5;124m\"\u001b[39m)\n\u001b[1;32m      6\u001b[0m \u001b[38;5;28;01mfinally\u001b[39;00m:\n\u001b[0;32m----> 7\u001b[0m     \u001b[43mfile\u001b[49m\u001b[38;5;241m.\u001b[39mclose()\n",
      "\u001b[0;31mNameError\u001b[0m: name 'file' is not defined"
     ]
    }
   ],
   "source": [
    "try:\n",
    "    file = open(\"myfile.txt\")\n",
    "    data = file.read()\n",
    "except IOError:\n",
    "    print(\"Error reading file\")\n",
    "finally:\n",
    "    file.close()\n"
   ]
  },
  {
   "cell_type": "markdown",
   "id": "9d26bbab-c5ee-46c0-936d-e9162a802eb4",
   "metadata": {},
   "source": [
    "# 3. raise statement\n",
    "# The raise statement is used to raise an exception in Python. You can use it to indicate that an error occurred in your code, and provide information about the error."
   ]
  },
  {
   "cell_type": "code",
   "execution_count": 7,
   "id": "aa138e44-b43e-424c-8427-d4cb649a7ba6",
   "metadata": {},
   "outputs": [
    {
     "name": "stdout",
     "output_type": "stream",
     "text": [
      "Error: Cannot divide by zero\n"
     ]
    }
   ],
   "source": [
    "def divide(x, y):\n",
    "    if y == 0:\n",
    "        raise ValueError(\"Cannot divide by zero\")\n",
    "    return x / y\n",
    "\n",
    "try:\n",
    "    result = divide(10, 0)\n",
    "except ValueError as e:\n",
    "    print(\"Error:\", e)\n"
   ]
  },
  {
   "cell_type": "markdown",
   "id": "ec71770e-e52c-49e6-98f7-d0604d74e6a3",
   "metadata": {},
   "source": [
    "# Q5 What are custom exceptions in python? Why do we need custom exceptions? Explain with an example."
   ]
  },
  {
   "cell_type": "markdown",
   "id": "ebd8d829-83c2-4be9-80ea-907547ea3260",
   "metadata": {},
   "source": [
    "# In Python, you can create your own custom exceptions by defining a new class that inherits from the Exception class. Custom exceptions can be used to handle errors that are specific to your application or domain, and provide more descriptive error messages to help with debugging."
   ]
  },
  {
   "cell_type": "code",
   "execution_count": 8,
   "id": "1a3d3413-560e-4669-8adf-517d78d4f47b",
   "metadata": {},
   "outputs": [
    {
     "ename": "NameError",
     "evalue": "name 'InsufficientFundsError' is not defined",
     "output_type": "error",
     "traceback": [
      "\u001b[0;31m---------------------------------------------------------------------------\u001b[0m",
      "\u001b[0;31mNameError\u001b[0m                                 Traceback (most recent call last)",
      "Cell \u001b[0;32mIn[8], line 14\u001b[0m\n\u001b[1;32m     13\u001b[0m \u001b[38;5;28;01mtry\u001b[39;00m:\n\u001b[0;32m---> 14\u001b[0m     \u001b[43maccount\u001b[49m\u001b[38;5;241;43m.\u001b[39;49m\u001b[43mwithdraw\u001b[49m\u001b[43m(\u001b[49m\u001b[38;5;241;43m2000\u001b[39;49m\u001b[43m)\u001b[49m\n\u001b[1;32m     15\u001b[0m \u001b[38;5;28;01mexcept\u001b[39;00m InsufficientFundsError \u001b[38;5;28;01mas\u001b[39;00m e:\n",
      "Cell \u001b[0;32mIn[8], line 7\u001b[0m, in \u001b[0;36mBankAccount.withdraw\u001b[0;34m(self, amount)\u001b[0m\n\u001b[1;32m      6\u001b[0m \u001b[38;5;28;01mif\u001b[39;00m amount \u001b[38;5;241m>\u001b[39m \u001b[38;5;28mself\u001b[39m\u001b[38;5;241m.\u001b[39mbalance:\n\u001b[0;32m----> 7\u001b[0m     \u001b[38;5;28;01mraise\u001b[39;00m \u001b[43mInsufficientFundsError\u001b[49m(\u001b[38;5;124m\"\u001b[39m\u001b[38;5;124mNot enough funds to withdraw $\u001b[39m\u001b[38;5;132;01m{}\u001b[39;00m\u001b[38;5;124m\"\u001b[39m\u001b[38;5;241m.\u001b[39mformat(amount))\n\u001b[1;32m      8\u001b[0m \u001b[38;5;28mself\u001b[39m\u001b[38;5;241m.\u001b[39mbalance \u001b[38;5;241m-\u001b[39m\u001b[38;5;241m=\u001b[39m amount\n",
      "\u001b[0;31mNameError\u001b[0m: name 'InsufficientFundsError' is not defined",
      "\nDuring handling of the above exception, another exception occurred:\n",
      "\u001b[0;31mNameError\u001b[0m                                 Traceback (most recent call last)",
      "Cell \u001b[0;32mIn[8], line 15\u001b[0m\n\u001b[1;32m     13\u001b[0m \u001b[38;5;28;01mtry\u001b[39;00m:\n\u001b[1;32m     14\u001b[0m     account\u001b[38;5;241m.\u001b[39mwithdraw(\u001b[38;5;241m2000\u001b[39m)\n\u001b[0;32m---> 15\u001b[0m \u001b[38;5;28;01mexcept\u001b[39;00m \u001b[43mInsufficientFundsError\u001b[49m \u001b[38;5;28;01mas\u001b[39;00m e:\n\u001b[1;32m     16\u001b[0m     \u001b[38;5;28mprint\u001b[39m(\u001b[38;5;124m\"\u001b[39m\u001b[38;5;124mError:\u001b[39m\u001b[38;5;124m\"\u001b[39m, e)\n",
      "\u001b[0;31mNameError\u001b[0m: name 'InsufficientFundsError' is not defined"
     ]
    }
   ],
   "source": [
    "class BankAccount:\n",
    "    def __init__(self, balance):\n",
    "        self.balance = balance\n",
    "\n",
    "    def withdraw(self, amount):\n",
    "        if amount > self.balance:\n",
    "            raise InsufficientFundsError(\"Not enough funds to withdraw ${}\".format(amount))\n",
    "        self.balance -= amount\n",
    "        print(\"Withdrawal of ${} successful\".format(amount))\n",
    "\n",
    "account = BankAccount(1000)\n",
    "\n",
    "try:\n",
    "    account.withdraw(2000)\n",
    "except InsufficientFundsError as e:\n",
    "    print(\"Error:\", e)\n"
   ]
  },
  {
   "cell_type": "markdown",
   "id": "92f9a5e9-c95f-4131-8632-844f8d2f047a",
   "metadata": {},
   "source": [
    "# Q6 Create a custom exception class. Use this class to handel an exception."
   ]
  },
  {
   "cell_type": "code",
   "execution_count": null,
   "id": "164ef928-44cb-4497-8e9e-21d487621835",
   "metadata": {},
   "outputs": [],
   "source": []
  }
 ],
 "metadata": {
  "kernelspec": {
   "display_name": "Python 3 (ipykernel)",
   "language": "python",
   "name": "python3"
  },
  "language_info": {
   "codemirror_mode": {
    "name": "ipython",
    "version": 3
   },
   "file_extension": ".py",
   "mimetype": "text/x-python",
   "name": "python",
   "nbconvert_exporter": "python",
   "pygments_lexer": "ipython3",
   "version": "3.10.8"
  }
 },
 "nbformat": 4,
 "nbformat_minor": 5
}
